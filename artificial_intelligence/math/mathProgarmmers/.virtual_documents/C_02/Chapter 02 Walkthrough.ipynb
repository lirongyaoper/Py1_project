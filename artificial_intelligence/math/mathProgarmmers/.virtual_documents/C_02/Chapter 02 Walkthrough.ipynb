





%load_ext autoreload
%autoreload 2
from vector_drawing import *


dino_vectors = [(6,4), (3,1), (1,2), (-1,5), (-2,5), (-3,4), (-4,4),
    (-5,3), (-5,2), (-2,2), (-5,1), (-4,0), (-2,1), (-1,0), (0,-3),
    (-1,-4), (1,-4), (2,-3), (1,-2), (3,-1), (5,1)
]

draw(
    Points(*dino_vectors)
)


draw(
    Points(*dino_vectors),
    Segment((6,4),(3,1))
)





draw(
    Points(*dino_vectors),
    Polygon(*dino_vectors)
)





draw(
    Points(*[(x,x**2) for x in range(-10,11)]),
    grid=(1,10),
    nice_aspect_ratio=False # don't require x scale to match y scale
)





def add(v1,v2):
    return (v1[0] + v2[0], v1[1] + v2[1])


dino_vectors2 = [add((-1.5,-2.5), v) for v in dino_vectors]


draw(
    Points(*dino_vectors, color=blue),
    Polygon(*dino_vectors, color=blue),
    Points(*dino_vectors2, color=red),
    Polygon(*dino_vectors2, color=red)
)


arrows = [Segment(tip,tail,color=black) for (tip,tail) in
         zip(dino_vectors2, dino_vectors)]
draw(
    Points(*dino_vectors, color=blue),
    Polygon(*dino_vectors, color=blue),
    Points(*dino_vectors2, color=red),
    Polygon(*dino_vectors2, color=red),
    *arrows
)





from math import sqrt
def length(v):
    return sqrt(v[0]**2 + v[1]**2) 





draw(
    Points((2,2), (-1,3)),
    Segment((2,2), (-1,3), color=red)
)





def add(*vectors):
    return (sum([v[0] for v in vectors]), sum([v[1] for v in vectors]))





def translate(translation, vectors):
    return [add(translation, v) for v in vectors]

translate((1,1), [(0,0), (0,1,), (-3,-3)])





def hundred_dinos():
    translations = [(12*x,10*y) 
                    for x in range(-5,5) 
                    for y in range(-5,5)]
    dinos = [Polygon(*translate(t, dino_vectors),color=blue)
                for t in translations]
    draw(*dinos, grid=None, axes=None, origin=None)


hundred_dinos()





>>> max(dino_vectors, key=length)
(6, 4)





from math import sqrt, pi

w = (sqrt(2),sqrt(3))
w_scaled = (pi * sqrt(2), pi * sqrt(3))


w_scaled


draw(
    Arrow(w_scaled, color=red),
    Arrow(w, color=black)
)





def scale(scalar,v):
    return (scalar * v[0], scalar * v[1])





from random import uniform
u = (-1,1)
v = (1,1)
def random_r():
    return uniform(-3,3)
def random_s(): 
    return uniform(-1,1)
possibilities = [add(scale(random_r(), u), scale(random_s(), v)) 
                 for i in range(0,500)]
draw(
    Points(*possibilities)
)





def subtract(v1,v2):
    return (v1[0] - v2[0], v1[1] - v2[1])





def distance(v1,v2):
    return length(subtract(v1,v2))


def perimeter(vectors):
    distances = [distance(vectors[i], vectors[(i+1)%len(vectors)])
                    for i in range(0,len(vectors))]
    return sum(distances)


# sanity check with a square
square = [(1,0),(1,1),(0,1),(0,0)]
draw(Polygon(*square), grid=(0.2,0.2), axes=None)


# should be 1+1+1+1=4
perimeter(square)


perimeter(dino_vectors)








for n in range(-12,15):
    for m in range(-14, 13):
        if distance((n,m), (1,-1)) == 13 and n > m > 0:
            print((n,m))








from math import tan
tan(45) # tangent of 45 radians, not degrees


from math import tan, pi
tan(pi/4) # now this is the tangent of pi/4 radians = 45 degrees 


from math import sin, cos
def to_cartesian(polar_vector):
    length, angle = polar_vector[0], polar_vector[1]
    return (length*cos(angle), length*sin(angle))


# Verify that 5 units @ 37 degrees takes us to (4,3)
angle = 37*pi/180
to_cartesian((5,angle))


from math import asin
sin(1)


asin(0.8414709848078965)


# trying to find an angle with sin = 3/sqrt(13)
from math import sqrt
asin(3/sqrt(13))


from math import acos
acos(-2/sqrt(13))


cos(2.1587989303424644)


-2/sqrt(13)


sin(2.1587989303424644)


3/sqrt(13)


from math import atan2
atan2(3,-2)


def to_polar(vector):
    x, y = vector[0], vector[1]
    angle = atan2(y,x)
    return (length(vector), angle)


to_polar((1,0))


to_polar((-2,3))





length((-1.34,2.68))








tan(2.035)








sin(10*pi/6)


cos(10*pi/6)





polar_coords = [(cos(5*x*pi/500.0), 2*pi*x/1000.0) for x in range(0,1000)]





polar_coords = [(cos(x*pi/100.0), 2*pi*x/1000.0) for x in range(0,1000)]
vectors = [to_cartesian(p) for p in polar_coords]
draw(Polygon(*vectors, color=green))





# we want to make guesses between pi/2 and pi
pi, pi/2


tan(1.8)


tan(2.5)


tan(2.2)


tan(2.1)


tan(2.15)


tan(2.16)


tan(2.155)


tan(2.156)


tan(2.157)


tan(2.158)


# we conclude the angle is between 2.158 and 2.159.
tan(2.159)





from math import atan


atan(-3/2)


# this is the direction to the point (2,-3).  
# tan(-3/2) = tan(-1.5) = tan(3/-2)
draw(Arrow((2,-3)), Points((2,-3)))





to_polar((1,1))


to_polar((1,-1))


#compare to
(sqrt(2), pi/4)


(sqrt(2), -pi/4)





rotation_angle = pi/4

dino_polar = [to_polar(v) for v in dino_vectors]
dino_rotated_polar = [(l,angle + rotation_angle) for l,angle in dino_polar]
dino_rotated = [to_cartesian(p) for p in dino_rotated_polar]

draw(
    Polygon(*dino_vectors, color=gray),
    Polygon(*dino_rotated, color=red)
)





def rotate(angle, vectors):
    polars = [to_polar(v) for v in vectors]
    return [to_cartesian((l, a+angle)) for l,a in polars]





new_dino = translate((8,8), rotate(5 * pi/3, dino_vectors))





def regular_polygon(n):
    return [to_cartesian((1, 2*pi*k/n)) for k in range(0,n)]


draw(
    Polygon(*regular_polygon(7))
)
